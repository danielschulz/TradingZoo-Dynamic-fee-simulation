{
 "cells": [
  {
   "cell_type": "code",
   "execution_count": 2,
   "metadata": {},
   "outputs": [],
   "source": [
    "import time\n",
    "import random\n",
    "import numpy as np\n",
    "import pandas as pd\n",
    "import torch\n",
    "import os\n",
    "\n",
    "from custom_trading_env import TradingEnv\n",
    "import DQNTradingAgent.dqn_agent as dqn_agent\n",
    "from arguments import argparser"
   ]
  },
  {
   "cell_type": "code",
   "execution_count": 3,
   "metadata": {},
   "outputs": [
    {
     "name": "stderr",
     "output_type": "stream",
     "text": [
      "[2019-07-24 14:16:09,419] Making new env: custom_trading_env\n"
     ]
    }
   ],
   "source": [
    "df = pd.read_hdf('./dataset/binance_data_test.h5', 'STW')\n",
    "df.fillna(method='ffill', inplace=True)\n",
    "\n",
    "sample_len   = len(df)\n",
    "obs_data_len = 192\n",
    "step_len     = 1\n",
    "n_action_intervals = 5\n",
    "init_budget = 1\n",
    "fee = 0.0001\n",
    "\n",
    "env = TradingEnv(custom_args=object(), env_id='custom_trading_env', obs_data_len=obs_data_len, step_len=step_len, sample_len=sample_len,\n",
    "                 df=df, fee=fee, initial_budget=1, n_action_intervals=n_action_intervals, deal_col_name='c', sell_at_end=True,\n",
    "                 feature_names=['o', 'h','l','c','v',\n",
    "                                'num_trades', 'taker_base_vol'])"
   ]
  },
  {
   "cell_type": "code",
   "execution_count": 4,
   "metadata": {},
   "outputs": [
    {
     "name": "stderr",
     "output_type": "stream",
     "text": [
      "/home/jeffrey/Binanace_trading_simulation/TradingGym/custom_trading_env.py:99: FutureWarning: Method .as_matrix will be removed in a future version. Use .values instead.\n",
      "  self.price = self.df_sample[self.price_name].as_matrix()\n",
      "/home/jeffrey/Binanace_trading_simulation/TradingGym/custom_trading_env.py:101: FutureWarning: Method .as_matrix will be removed in a future version. Use .values instead.\n",
      "  self.obs_features = self.df_sample[self.using_feature].as_matrix()\n"
     ]
    },
    {
     "name": "stdout",
     "output_type": "stream",
     "text": [
      "Agent 1\n",
      "    Preparation time: 3.558310s\n",
      "    Episode time: 12.332304s\n",
      "    Post-processing time: 0.070294s\n",
      "Agent 2\n",
      "    Preparation time: 0.072453s\n",
      "    Episode time: 11.946267s\n",
      "    Post-processing time: 0.072251s\n",
      "Agent 3\n",
      "    Preparation time: 0.163347s\n",
      "    Episode time: 11.953997s\n",
      "    Post-processing time: 0.072080s\n",
      "Agent 4\n",
      "    Preparation time: 0.057175s\n",
      "    Episode time: 11.916726s\n",
      "    Post-processing time: 0.068141s\n",
      "Agent 5\n",
      "    Preparation time: 0.115867s\n",
      "    Episode time: 12.014687s\n",
      "    Post-processing time: 0.068544s\n",
      "Agent 6\n",
      "    Preparation time: 0.081664s\n",
      "    Episode time: 12.092768s\n",
      "    Post-processing time: 0.067834s\n",
      "Agent 7\n",
      "    Preparation time: 0.159277s\n",
      "    Episode time: 11.967421s\n",
      "    Post-processing time: 0.067891s\n",
      "Agent 8\n",
      "    Preparation time: 0.125754s\n",
      "    Episode time: 12.100076s\n",
      "    Post-processing time: 0.066886s\n",
      "Agent 9\n",
      "    Preparation time: 0.166195s\n",
      "    Episode time: 11.999529s\n",
      "    Post-processing time: 0.066381s\n",
      "Agent 10\n",
      "    Preparation time: 0.150077s\n",
      "    Episode time: 12.108729s\n",
      "    Post-processing time: 0.064568s\n",
      "Agent 11\n",
      "    Preparation time: 0.161246s\n",
      "    Episode time: 12.019795s\n",
      "    Post-processing time: 0.060642s\n",
      "Agent 12\n",
      "    Preparation time: 0.132393s\n",
      "    Episode time: 12.078679s\n",
      "    Post-processing time: 0.061038s\n",
      "Agent 13\n",
      "    Preparation time: 0.155546s\n",
      "    Episode time: 11.979163s\n",
      "    Post-processing time: 0.061088s\n",
      "Agent 14\n",
      "    Preparation time: 0.159950s\n",
      "    Episode time: 12.033035s\n",
      "    Post-processing time: 0.063949s\n",
      "Agent 15\n",
      "    Preparation time: 0.116753s\n",
      "    Episode time: 11.908497s\n",
      "    Post-processing time: 0.062722s\n",
      "Agent 16\n",
      "    Preparation time: 0.180073s\n",
      "    Episode time: 11.925532s\n",
      "    Post-processing time: 0.061980s\n",
      "Agent 17\n",
      "    Preparation time: 0.156204s\n",
      "    Episode time: 12.012336s\n",
      "    Post-processing time: 0.063625s\n",
      "Agent 18\n",
      "    Preparation time: 0.183921s\n",
      "    Episode time: 12.050957s\n",
      "    Post-processing time: 0.063117s\n",
      "Agent 19\n",
      "    Preparation time: 0.174465s\n",
      "    Episode time: 12.013805s\n",
      "    Post-processing time: 0.063152s\n",
      "Agent 20\n",
      "    Preparation time: 0.191080s\n",
      "    Episode time: 11.949746s\n",
      "    Post-processing time: 0.067326s\n",
      "Agent 21\n",
      "    Preparation time: 0.107071s\n",
      "    Episode time: 12.046043s\n",
      "    Post-processing time: 0.061268s\n",
      "Agent 22\n",
      "    Preparation time: 0.176996s\n",
      "    Episode time: 12.074631s\n",
      "    Post-processing time: 0.062544s\n",
      "Agent 23\n",
      "    Preparation time: 0.123498s\n",
      "    Episode time: 12.135815s\n",
      "    Post-processing time: 0.060838s\n",
      "Agent 24\n",
      "    Preparation time: 0.159958s\n",
      "    Episode time: 12.200558s\n",
      "    Post-processing time: 0.073556s\n",
      "Agent 25\n",
      "    Preparation time: 0.183328s\n",
      "    Episode time: 12.208101s\n",
      "    Post-processing time: 0.063311s\n",
      "Agent 26\n",
      "    Preparation time: 0.175925s\n",
      "    Episode time: 12.245990s\n",
      "    Post-processing time: 0.062290s\n",
      "Agent 27\n",
      "    Preparation time: 0.069980s\n",
      "    Episode time: 11.661641s\n",
      "    Post-processing time: 0.062436s\n"
     ]
    }
   ],
   "source": [
    "total_volume = []\n",
    "total_fee = []\n",
    "for i in range(1,27+1):\n",
    "    print(\"Agent\", i)\n",
    "    t0 = time.time()\n",
    "    save_location = 'saves/transfer1/0.0001/{}'.format(i)\n",
    "\n",
    "    device = torch.device(\"cuda:1\" if torch.cuda.is_available() else \"cpu\")\n",
    "    dqn_agent.set_device(device)\n",
    "    load_weight_n = 500\n",
    "\n",
    "    state = env.reset()\n",
    "    # env.render()\n",
    "\n",
    "    hyperparams = torch.load(os.path.join(save_location, \"hyperparams.pth\"))\n",
    "\n",
    "    agent = dqn_agent.Agent(action_size=2 * n_action_intervals + 1, obs_len=obs_data_len, num_features=state.shape[-1], **hyperparams)\n",
    "    agent.qnetwork_local.load_state_dict(torch.load(os.path.join(save_location, 'TradingGym_Rainbow_{:d}.pth'.format(load_weight_n)), map_location=device))\n",
    "    agent.qnetwork_local.to(device)\n",
    "    agent.qnetwork_local.eval()\n",
    "\n",
    "    done = False\n",
    "    \n",
    "    t1 = time.time()\n",
    "    print(\"    Preparation time: {:f}s\".format(t1 - t0))\n",
    "\n",
    "    while not done:\n",
    "\n",
    "        action = int(agent.act(state))\n",
    "        state, reward, done, info = env.step(action)\n",
    "    #     print()\n",
    "    #     print(\"Action:\", action)\n",
    "    #     print(\"Budget:\", env.budget)\n",
    "    #     print(\"Reward:\", reward)\n",
    "        if done:\n",
    "            break\n",
    "    \n",
    "    t2 = time.time()\n",
    "    print(\"    Episode time: {:f}s\".format(t2 - t1))\n",
    "\n",
    "    total_volume.append(info['position_variation'].abs().sum())\n",
    "    \n",
    "    if not os.path.exists(f\"Results/{str(fee)}/\"):\n",
    "        os.makedirs(f\"Results/{str(fee)}\")\n",
    "    info.to_csv(f\"Results/{str(fee)}/info_{i}.csv\")\n",
    "    total_fee.append(env.total_fee)\n",
    "    print(\"    Post-processing time: {:f}s\".format(time.time() - t2))"
   ]
  },
  {
   "cell_type": "code",
   "execution_count": 5,
   "metadata": {},
   "outputs": [
    {
     "data": {
      "text/plain": [
       "27"
      ]
     },
     "execution_count": 5,
     "metadata": {},
     "output_type": "execute_result"
    }
   ],
   "source": [
    "len(total_fee)"
   ]
  },
  {
   "cell_type": "code",
   "execution_count": 6,
   "metadata": {},
   "outputs": [],
   "source": [
    "import matplotlib.pyplot as plt"
   ]
  },
  {
   "cell_type": "code",
   "execution_count": 7,
   "metadata": {},
   "outputs": [
    {
     "data": {
      "text/plain": [
       "Text(0.5, 0, 'N_agent')"
      ]
     },
     "execution_count": 7,
     "metadata": {},
     "output_type": "execute_result"
    },
    {
     "data": {
      "image/png": "[encoded data removed]",
      "text/plain": [
       "<Figure size 432x288 with 1 Axes>"
      ]
     },
     "metadata": {
      "needs_background": "light"
     },
     "output_type": "display_data"
    }
   ],
   "source": [
    "plt.plot(total_fee)\n",
    "plt.grid()\n",
    "plt.title(\"Total fee\")\n",
    "plt.xlabel(\"N_agent\")"
   ]
  },
  {
   "cell_type": "code",
   "execution_count": 8,
   "metadata": {},
   "outputs": [
    {
     "data": {
      "text/plain": [
       "Text(0.5, 0, 'N_agent')"
      ]
     },
     "execution_count": 8,
     "metadata": {},
     "output_type": "execute_result"
    },
    {
     "data": {
      "image/png": "[encoded data removed]",
      "text/plain": [
       "<Figure size 432x288 with 1 Axes>"
      ]
     },
     "metadata": {
      "needs_background": "light"
     },
     "output_type": "display_data"
    }
   ],
   "source": [
    "plt.plot(total_volume)\n",
    "plt.grid()\n",
    "plt.title(\"Total Volume\")\n",
    "plt.xlabel(\"N_agent\")"
   ]
  },
  {
   "cell_type": "code",
   "execution_count": 9,
   "metadata": {},
   "outputs": [],
   "source": [
    "import pickle as pkl"
   ]
  },
  {
   "cell_type": "code",
   "execution_count": 10,
   "metadata": {},
   "outputs": [],
   "source": [
    "with open(f\"Results/{fee}_total_fee\", 'wb') as pickle_file:\n",
    "    pkl.dump(total_fee, pickle_file)\n",
    "with open(f\"Results/{fee}_total_volume\", 'wb') as pickle_file:\n",
    "    pkl.dump(total_volume, pickle_file)"
   ]
  }
 ],
 "metadata": {
  "kernelspec": {
   "display_name": "RL",
   "language": "python",
   "name": "rl"
  },
  "language_info": {
   "codemirror_mode": {
    "name": "ipython",
    "version": 3
   },
   "file_extension": ".py",
   "mimetype": "text/x-python",
   "name": "python",
   "nbconvert_exporter": "python",
   "pygments_lexer": "ipython3",
   "version": "3.7.2"
  }
 },
 "nbformat": 4,
 "nbformat_minor": 2
}
