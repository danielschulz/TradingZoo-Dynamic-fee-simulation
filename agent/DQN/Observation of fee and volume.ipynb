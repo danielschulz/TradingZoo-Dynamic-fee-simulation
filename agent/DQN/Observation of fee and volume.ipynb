{
 "cells": [
  {
   "cell_type": "code",
   "execution_count": 1,
   "metadata": {},
   "outputs": [],
   "source": [
    "import os\n",
    "\n",
    "import matplotlib.pyplot as plt\n",
    "import numpy as np\n",
    "import pandas as pd\n",
    "import torch\n",
    "%matplotlib inline\n",
    "import importlib\n",
    "\n",
    "from tqdm import tqdm, tnrange"
   ]
  },
  {
   "cell_type": "code",
   "execution_count": 2,
   "metadata": {},
   "outputs": [],
   "source": [
    "df = pd.read_hdf('dataset/binance_data_train.h5', 'STW')\n",
    "sample_len   = 480\n",
    "obs_data_len = 192\n",
    "step_len     = 1\n",
    "n_action_intervals = 5\n",
    "device = \"cuda:3\""
   ]
  },
  {
   "cell_type": "code",
   "execution_count": 3,
   "metadata": {},
   "outputs": [],
   "source": [
    "import DQNTradingAgent.dqn_agent as dqn_agent\n",
    "from custom_hyperparameters import hyperparams\n",
    "from envs.trading_env_integrated import TradingEnv"
   ]
  },
  {
   "cell_type": "markdown",
   "metadata": {},
   "source": [
    "## draw fee_rate list"
   ]
  },
  {
   "cell_type": "code",
   "execution_count": 4,
   "metadata": {},
   "outputs": [],
   "source": [
    "env_name = [\"bollinger\", \"macd\", \"stochastic\", \"rsi\",\"0.000\",\"0.003\",'0.005']"
   ]
  },
  {
   "cell_type": "code",
   "execution_count": 5,
   "metadata": {},
   "outputs": [],
   "source": [
    "def fee_rate_list(env_name, agent_num =1):\n",
    "    load_location = 'saves/transfer/{}/{}'.format(env_name,agent_num)\n",
    "    class args():\n",
    "        def __init__(self, name):\n",
    "            self.environment=name\n",
    "    args = args(env_name)\n",
    "    env = TradingEnv(custom_args=args, env_id='custom_trading_env', obs_data_len=obs_data_len, step_len=step_len, sample_len=sample_len,\n",
    "                               df=df, fee=0.001, initial_budget=1, n_action_intervals=n_action_intervals, deal_col_name='c', sell_at_end=True,\n",
    "                               feature_names=['o', 'h','l','c','v',\n",
    "                                              'num_trades', 'taker_base_vol'])\n",
    "    agent = dqn_agent.Agent(action_size=2 * n_action_intervals + 1, obs_len=obs_data_len, num_features=env.reset().shape[-1], **hyperparams)\n",
    "    agent.qnetwork_local.load_state_dict(torch.load(os.path.join(load_location, 'TradingGym_Rainbow_400.pth'), map_location=device))\n",
    "    agent.qnetwork_local.to(device)\n",
    "    agent.qnetwork_local.eval()\n",
    "    \n",
    "    state = env.reset()\n",
    "    fee_rate_list = []\n",
    "    while True:\n",
    "        action = int(agent.act(state, eps=0.))\n",
    "        next_state, reward, done, _ ,fee_rate= env.step(action)\n",
    "        state = next_state\n",
    "        fee_rate_list.append(fee_rate)\n",
    "        if done:\n",
    "            break\n",
    "        \n",
    "    return fee_rate_list"
   ]
  },
  {
   "cell_type": "code",
   "execution_count": 6,
   "metadata": {},
   "outputs": [
    {
     "data": {
      "application/vnd.jupyter.widget-view+json": {
       "model_id": "df01637ca91748d08615bf5f9e380e2e",
       "version_major": 2,
       "version_minor": 0
      },
      "text/plain": [
       "HBox(children=(IntProgress(value=0, description='env', max=7, style=ProgressStyle(description_width='initial')…"
      ]
     },
     "metadata": {},
     "output_type": "display_data"
    },
    {
     "data": {
      "application/vnd.jupyter.widget-view+json": {
       "model_id": "83aa445189bd4db4b6d34685caa3fa38",
       "version_major": 2,
       "version_minor": 0
      },
      "text/plain": [
       "HBox(children=(IntProgress(value=0, description='agent num', max=30, style=ProgressStyle(description_width='in…"
      ]
     },
     "metadata": {},
     "output_type": "display_data"
    },
    {
     "name": "stderr",
     "output_type": "stream",
     "text": [
      "[2019-09-06 20:27:36,568] Making new env: custom_trading_env\n",
      "/home/jeffrey/Binanace_trading_simulation/agent/DQN/envs/trading_env_integrated.py:108: FutureWarning: Method .as_matrix will be removed in a future version. Use .values instead.\n",
      "  self.price = self.df_sample[self.price_name].as_matrix()\n",
      "/home/jeffrey/Binanace_trading_simulation/agent/DQN/envs/trading_env_integrated.py:110: FutureWarning: Method .as_matrix will be removed in a future version. Use .values instead.\n",
      "  self.obs_features = self.df_sample[self.using_feature].as_matrix()\n",
      "[2019-09-06 20:27:41,608] Making new env: custom_trading_env\n",
      "[2019-09-06 20:27:43,278] Making new env: custom_trading_env\n",
      "[2019-09-06 20:27:44,905] Making new env: custom_trading_env\n",
      "[2019-09-06 20:27:46,450] Making new env: custom_trading_env\n",
      "[2019-09-06 20:27:48,012] Making new env: custom_trading_env\n",
      "[2019-09-06 20:27:49,599] Making new env: custom_trading_env\n",
      "[2019-09-06 20:27:51,137] Making new env: custom_trading_env\n",
      "[2019-09-06 20:27:52,678] Making new env: custom_trading_env\n",
      "[2019-09-06 20:27:54,246] Making new env: custom_trading_env\n",
      "[2019-09-06 20:27:55,920] Making new env: custom_trading_env\n",
      "[2019-09-06 20:27:57,575] Making new env: custom_trading_env\n",
      "[2019-09-06 20:27:59,154] Making new env: custom_trading_env\n",
      "[2019-09-06 20:28:00,710] Making new env: custom_trading_env\n",
      "[2019-09-06 20:28:02,259] Making new env: custom_trading_env\n",
      "[2019-09-06 20:28:03,844] Making new env: custom_trading_env\n",
      "[2019-09-06 20:28:05,404] Making new env: custom_trading_env\n",
      "[2019-09-06 20:28:06,971] Making new env: custom_trading_env\n",
      "[2019-09-06 20:28:08,558] Making new env: custom_trading_env\n",
      "[2019-09-06 20:28:10,122] Making new env: custom_trading_env\n",
      "[2019-09-06 20:28:11,696] Making new env: custom_trading_env\n",
      "[2019-09-06 20:28:13,308] Making new env: custom_trading_env\n",
      "[2019-09-06 20:28:14,864] Making new env: custom_trading_env\n",
      "[2019-09-06 20:28:16,394] Making new env: custom_trading_env\n",
      "[2019-09-06 20:28:17,958] Making new env: custom_trading_env\n",
      "[2019-09-06 20:28:19,473] Making new env: custom_trading_env\n",
      "[2019-09-06 20:28:21,051] Making new env: custom_trading_env\n",
      "[2019-09-06 20:28:22,631] Making new env: custom_trading_env\n",
      "[2019-09-06 20:28:24,206] Making new env: custom_trading_env\n",
      "[2019-09-06 20:28:25,787] Making new env: custom_trading_env\n"
     ]
    },
    {
     "data": {
      "application/vnd.jupyter.widget-view+json": {
       "model_id": "028b3b6b1e754714abbaafa9cb7a4806",
       "version_major": 2,
       "version_minor": 0
      },
      "text/plain": [
       "HBox(children=(IntProgress(value=0, description='agent num', max=30, style=ProgressStyle(description_width='in…"
      ]
     },
     "metadata": {},
     "output_type": "display_data"
    },
    {
     "name": "stderr",
     "output_type": "stream",
     "text": [
      "[2019-09-06 20:28:27,341] Making new env: custom_trading_env\n",
      "[2019-09-06 20:28:28,711] Making new env: custom_trading_env\n",
      "[2019-09-06 20:28:30,015] Making new env: custom_trading_env\n",
      "[2019-09-06 20:28:31,370] Making new env: custom_trading_env\n",
      "[2019-09-06 20:28:32,709] Making new env: custom_trading_env\n",
      "[2019-09-06 20:28:34,029] Making new env: custom_trading_env\n",
      "[2019-09-06 20:28:35,328] Making new env: custom_trading_env\n",
      "[2019-09-06 20:28:36,695] Making new env: custom_trading_env\n",
      "[2019-09-06 20:28:37,989] Making new env: custom_trading_env\n",
      "[2019-09-06 20:28:39,317] Making new env: custom_trading_env\n",
      "[2019-09-06 20:28:40,662] Making new env: custom_trading_env\n",
      "[2019-09-06 20:28:41,995] Making new env: custom_trading_env\n",
      "[2019-09-06 20:28:43,284] Making new env: custom_trading_env\n",
      "[2019-09-06 20:28:44,621] Making new env: custom_trading_env\n",
      "[2019-09-06 20:28:45,940] Making new env: custom_trading_env\n",
      "[2019-09-06 20:28:47,250] Making new env: custom_trading_env\n",
      "[2019-09-06 20:28:48,528] Making new env: custom_trading_env\n",
      "[2019-09-06 20:28:49,855] Making new env: custom_trading_env\n",
      "[2019-09-06 20:28:51,200] Making new env: custom_trading_env\n",
      "[2019-09-06 20:28:52,554] Making new env: custom_trading_env\n",
      "[2019-09-06 20:28:53,851] Making new env: custom_trading_env\n",
      "[2019-09-06 20:28:55,163] Making new env: custom_trading_env\n",
      "[2019-09-06 20:28:56,490] Making new env: custom_trading_env\n",
      "[2019-09-06 20:28:57,822] Making new env: custom_trading_env\n",
      "[2019-09-06 20:28:59,160] Making new env: custom_trading_env\n",
      "[2019-09-06 20:29:00,493] Making new env: custom_trading_env\n",
      "[2019-09-06 20:29:01,842] Making new env: custom_trading_env\n",
      "[2019-09-06 20:29:03,194] Making new env: custom_trading_env\n",
      "[2019-09-06 20:29:04,538] Making new env: custom_trading_env\n",
      "[2019-09-06 20:29:05,887] Making new env: custom_trading_env\n"
     ]
    },
    {
     "data": {
      "application/vnd.jupyter.widget-view+json": {
       "model_id": "209643b4e1654a098318629fbae920c3",
       "version_major": 2,
       "version_minor": 0
      },
      "text/plain": [
       "HBox(children=(IntProgress(value=0, description='agent num', max=30, style=ProgressStyle(description_width='in…"
      ]
     },
     "metadata": {},
     "output_type": "display_data"
    },
    {
     "name": "stderr",
     "output_type": "stream",
     "text": [
      "[2019-09-06 20:29:07,241] Making new env: custom_trading_env\n",
      "[2019-09-06 20:29:08,669] Making new env: custom_trading_env\n",
      "[2019-09-06 20:29:10,140] Making new env: custom_trading_env\n",
      "[2019-09-06 20:29:11,577] Making new env: custom_trading_env\n",
      "[2019-09-06 20:29:12,975] Making new env: custom_trading_env\n",
      "[2019-09-06 20:29:14,426] Making new env: custom_trading_env\n",
      "[2019-09-06 20:29:15,807] Making new env: custom_trading_env\n",
      "[2019-09-06 20:29:17,196] Making new env: custom_trading_env\n",
      "[2019-09-06 20:29:18,645] Making new env: custom_trading_env\n",
      "[2019-09-06 20:29:20,076] Making new env: custom_trading_env\n",
      "[2019-09-06 20:29:21,504] Making new env: custom_trading_env\n",
      "[2019-09-06 20:29:22,931] Making new env: custom_trading_env\n",
      "[2019-09-06 20:29:24,356] Making new env: custom_trading_env\n",
      "[2019-09-06 20:29:25,807] Making new env: custom_trading_env\n",
      "[2019-09-06 20:29:27,254] Making new env: custom_trading_env\n",
      "[2019-09-06 20:29:28,709] Making new env: custom_trading_env\n",
      "[2019-09-06 20:29:30,139] Making new env: custom_trading_env\n",
      "[2019-09-06 20:29:31,560] Making new env: custom_trading_env\n",
      "[2019-09-06 20:29:33,016] Making new env: custom_trading_env\n",
      "[2019-09-06 20:29:34,447] Making new env: custom_trading_env\n",
      "[2019-09-06 20:29:35,922] Making new env: custom_trading_env\n",
      "[2019-09-06 20:29:37,371] Making new env: custom_trading_env\n",
      "[2019-09-06 20:29:38,794] Making new env: custom_trading_env\n",
      "[2019-09-06 20:29:40,203] Making new env: custom_trading_env\n",
      "[2019-09-06 20:29:41,643] Making new env: custom_trading_env\n",
      "[2019-09-06 20:29:43,046] Making new env: custom_trading_env\n",
      "[2019-09-06 20:29:44,506] Making new env: custom_trading_env\n",
      "[2019-09-06 20:29:45,922] Making new env: custom_trading_env\n",
      "[2019-09-06 20:29:47,331] Making new env: custom_trading_env\n",
      "[2019-09-06 20:29:48,776] Making new env: custom_trading_env\n"
     ]
    },
    {
     "data": {
      "application/vnd.jupyter.widget-view+json": {
       "model_id": "1cade7d9982949f2afbe894aa9e4003b",
       "version_major": 2,
       "version_minor": 0
      },
      "text/plain": [
       "HBox(children=(IntProgress(value=0, description='agent num', max=30, style=ProgressStyle(description_width='in…"
      ]
     },
     "metadata": {},
     "output_type": "display_data"
    },
    {
     "name": "stderr",
     "output_type": "stream",
     "text": [
      "[2019-09-06 20:29:50,264] Making new env: custom_trading_env\n",
      "[2019-09-06 20:29:52,423] Making new env: custom_trading_env\n",
      "[2019-09-06 20:29:54,590] Making new env: custom_trading_env\n",
      "[2019-09-06 20:29:56,868] Making new env: custom_trading_env\n",
      "[2019-09-06 20:29:59,119] Making new env: custom_trading_env\n",
      "[2019-09-06 20:30:01,251] Making new env: custom_trading_env\n",
      "[2019-09-06 20:30:03,456] Making new env: custom_trading_env\n",
      "[2019-09-06 20:30:05,631] Making new env: custom_trading_env\n",
      "[2019-09-06 20:30:07,792] Making new env: custom_trading_env\n",
      "[2019-09-06 20:30:10,019] Making new env: custom_trading_env\n",
      "[2019-09-06 20:30:12,243] Making new env: custom_trading_env\n",
      "[2019-09-06 20:30:14,429] Making new env: custom_trading_env\n",
      "[2019-09-06 20:30:16,683] Making new env: custom_trading_env\n",
      "[2019-09-06 20:30:18,903] Making new env: custom_trading_env\n",
      "[2019-09-06 20:30:21,119] Making new env: custom_trading_env\n",
      "[2019-09-06 20:30:23,294] Making new env: custom_trading_env\n",
      "[2019-09-06 20:30:25,449] Making new env: custom_trading_env\n",
      "[2019-09-06 20:30:27,663] Making new env: custom_trading_env\n",
      "[2019-09-06 20:30:29,894] Making new env: custom_trading_env\n",
      "[2019-09-06 20:30:32,056] Making new env: custom_trading_env\n",
      "[2019-09-06 20:30:34,257] Making new env: custom_trading_env\n",
      "[2019-09-06 20:30:36,395] Making new env: custom_trading_env\n",
      "[2019-09-06 20:30:38,576] Making new env: custom_trading_env\n",
      "[2019-09-06 20:30:40,828] Making new env: custom_trading_env\n",
      "[2019-09-06 20:30:43,050] Making new env: custom_trading_env\n",
      "[2019-09-06 20:30:45,262] Making new env: custom_trading_env\n",
      "[2019-09-06 20:30:47,442] Making new env: custom_trading_env\n",
      "[2019-09-06 20:30:49,622] Making new env: custom_trading_env\n",
      "[2019-09-06 20:30:51,834] Making new env: custom_trading_env\n",
      "[2019-09-06 20:30:54,029] Making new env: custom_trading_env\n"
     ]
    },
    {
     "data": {
      "application/vnd.jupyter.widget-view+json": {
       "model_id": "70622ee0c06b4caeaddb618b38df1f27",
       "version_major": 2,
       "version_minor": 0
      },
      "text/plain": [
       "HBox(children=(IntProgress(value=0, description='agent num', max=30, style=ProgressStyle(description_width='in…"
      ]
     },
     "metadata": {},
     "output_type": "display_data"
    },
    {
     "name": "stderr",
     "output_type": "stream",
     "text": [
      "[2019-09-06 20:30:56,211] Making new env: custom_trading_env\n",
      "[2019-09-06 20:30:57,144] Making new env: custom_trading_env\n",
      "[2019-09-06 20:30:58,118] Making new env: custom_trading_env\n",
      "[2019-09-06 20:30:59,072] Making new env: custom_trading_env\n",
      "[2019-09-06 20:31:00,029] Making new env: custom_trading_env\n",
      "[2019-09-06 20:31:01,028] Making new env: custom_trading_env\n",
      "[2019-09-06 20:31:02,007] Making new env: custom_trading_env\n",
      "[2019-09-06 20:31:02,974] Making new env: custom_trading_env\n",
      "[2019-09-06 20:31:03,938] Making new env: custom_trading_env\n",
      "[2019-09-06 20:31:04,872] Making new env: custom_trading_env\n",
      "[2019-09-06 20:31:05,822] Making new env: custom_trading_env\n",
      "[2019-09-06 20:31:06,783] Making new env: custom_trading_env\n",
      "[2019-09-06 20:31:07,730] Making new env: custom_trading_env\n",
      "[2019-09-06 20:31:08,690] Making new env: custom_trading_env\n",
      "[2019-09-06 20:31:09,653] Making new env: custom_trading_env\n",
      "[2019-09-06 20:31:10,614] Making new env: custom_trading_env\n",
      "[2019-09-06 20:31:11,581] Making new env: custom_trading_env\n",
      "[2019-09-06 20:31:12,562] Making new env: custom_trading_env\n",
      "[2019-09-06 20:31:13,545] Making new env: custom_trading_env\n",
      "[2019-09-06 20:31:14,505] Making new env: custom_trading_env\n",
      "[2019-09-06 20:31:15,427] Making new env: custom_trading_env\n",
      "[2019-09-06 20:31:16,398] Making new env: custom_trading_env\n",
      "[2019-09-06 20:31:17,358] Making new env: custom_trading_env\n",
      "[2019-09-06 20:31:18,329] Making new env: custom_trading_env\n",
      "[2019-09-06 20:31:19,288] Making new env: custom_trading_env\n",
      "[2019-09-06 20:31:20,280] Making new env: custom_trading_env\n",
      "[2019-09-06 20:31:21,266] Making new env: custom_trading_env\n",
      "[2019-09-06 20:31:22,189] Making new env: custom_trading_env\n",
      "[2019-09-06 20:31:23,139] Making new env: custom_trading_env\n",
      "[2019-09-06 20:31:24,116] Making new env: custom_trading_env\n"
     ]
    },
    {
     "data": {
      "application/vnd.jupyter.widget-view+json": {
       "model_id": "c218c6879c824fd5b60b4d551d78b097",
       "version_major": 2,
       "version_minor": 0
      },
      "text/plain": [
       "HBox(children=(IntProgress(value=0, description='agent num', max=30, style=ProgressStyle(description_width='in…"
      ]
     },
     "metadata": {},
     "output_type": "display_data"
    },
    {
     "name": "stderr",
     "output_type": "stream",
     "text": [
      "[2019-09-06 20:31:25,099] Making new env: custom_trading_env\n",
      "[2019-09-06 20:31:26,035] Making new env: custom_trading_env\n",
      "[2019-09-06 20:31:26,960] Making new env: custom_trading_env\n",
      "[2019-09-06 20:31:27,938] Making new env: custom_trading_env\n",
      "[2019-09-06 20:31:28,975] Making new env: custom_trading_env\n",
      "[2019-09-06 20:31:29,931] Making new env: custom_trading_env\n",
      "[2019-09-06 20:31:30,925] Making new env: custom_trading_env\n",
      "[2019-09-06 20:31:31,893] Making new env: custom_trading_env\n",
      "[2019-09-06 20:31:32,851] Making new env: custom_trading_env\n",
      "[2019-09-06 20:31:33,812] Making new env: custom_trading_env\n",
      "[2019-09-06 20:31:34,779] Making new env: custom_trading_env\n",
      "[2019-09-06 20:31:35,743] Making new env: custom_trading_env\n",
      "[2019-09-06 20:31:36,674] Making new env: custom_trading_env\n",
      "[2019-09-06 20:31:37,625] Making new env: custom_trading_env\n",
      "[2019-09-06 20:31:38,593] Making new env: custom_trading_env\n",
      "[2019-09-06 20:31:39,566] Making new env: custom_trading_env\n",
      "[2019-09-06 20:31:40,529] Making new env: custom_trading_env\n",
      "[2019-09-06 20:31:41,488] Making new env: custom_trading_env\n",
      "[2019-09-06 20:31:42,474] Making new env: custom_trading_env\n",
      "[2019-09-06 20:31:43,447] Making new env: custom_trading_env\n",
      "[2019-09-06 20:31:44,430] Making new env: custom_trading_env\n",
      "[2019-09-06 20:31:45,409] Making new env: custom_trading_env\n",
      "[2019-09-06 20:31:46,396] Making new env: custom_trading_env\n",
      "[2019-09-06 20:31:47,388] Making new env: custom_trading_env\n",
      "[2019-09-06 20:31:48,362] Making new env: custom_trading_env\n",
      "[2019-09-06 20:31:49,329] Making new env: custom_trading_env\n",
      "[2019-09-06 20:31:50,296] Making new env: custom_trading_env\n",
      "[2019-09-06 20:31:51,237] Making new env: custom_trading_env\n",
      "[2019-09-06 20:31:52,225] Making new env: custom_trading_env\n",
      "[2019-09-06 20:31:53,199] Making new env: custom_trading_env\n"
     ]
    },
    {
     "data": {
      "application/vnd.jupyter.widget-view+json": {
       "model_id": "a11a08ec6e9c4f39b1744093485735a3",
       "version_major": 2,
       "version_minor": 0
      },
      "text/plain": [
       "HBox(children=(IntProgress(value=0, description='agent num', max=30, style=ProgressStyle(description_width='in…"
      ]
     },
     "metadata": {},
     "output_type": "display_data"
    },
    {
     "name": "stderr",
     "output_type": "stream",
     "text": [
      "[2019-09-06 20:31:54,201] Making new env: custom_trading_env\n",
      "[2019-09-06 20:31:55,154] Making new env: custom_trading_env\n",
      "[2019-09-06 20:31:56,111] Making new env: custom_trading_env\n",
      "[2019-09-06 20:31:57,061] Making new env: custom_trading_env\n",
      "[2019-09-06 20:31:58,029] Making new env: custom_trading_env\n",
      "[2019-09-06 20:31:59,008] Making new env: custom_trading_env\n",
      "[2019-09-06 20:31:59,962] Making new env: custom_trading_env\n",
      "[2019-09-06 20:32:00,962] Making new env: custom_trading_env\n",
      "[2019-09-06 20:32:01,925] Making new env: custom_trading_env\n",
      "[2019-09-06 20:32:02,904] Making new env: custom_trading_env\n",
      "[2019-09-06 20:32:03,852] Making new env: custom_trading_env\n",
      "[2019-09-06 20:32:04,842] Making new env: custom_trading_env\n",
      "[2019-09-06 20:32:05,819] Making new env: custom_trading_env\n",
      "[2019-09-06 20:32:06,814] Making new env: custom_trading_env\n",
      "[2019-09-06 20:32:07,804] Making new env: custom_trading_env\n",
      "[2019-09-06 20:32:08,772] Making new env: custom_trading_env\n",
      "[2019-09-06 20:32:09,769] Making new env: custom_trading_env\n",
      "[2019-09-06 20:32:10,738] Making new env: custom_trading_env\n",
      "[2019-09-06 20:32:11,725] Making new env: custom_trading_env\n",
      "[2019-09-06 20:32:12,699] Making new env: custom_trading_env\n",
      "[2019-09-06 20:32:13,665] Making new env: custom_trading_env\n",
      "[2019-09-06 20:32:14,656] Making new env: custom_trading_env\n",
      "[2019-09-06 20:32:15,595] Making new env: custom_trading_env\n",
      "[2019-09-06 20:32:16,529] Making new env: custom_trading_env\n",
      "[2019-09-06 20:32:17,483] Making new env: custom_trading_env\n",
      "[2019-09-06 20:32:18,463] Making new env: custom_trading_env\n",
      "[2019-09-06 20:32:19,450] Making new env: custom_trading_env\n",
      "[2019-09-06 20:32:20,423] Making new env: custom_trading_env\n",
      "[2019-09-06 20:32:21,412] Making new env: custom_trading_env\n",
      "[2019-09-06 20:32:22,380] Making new env: custom_trading_env\n"
     ]
    },
    {
     "name": "stdout",
     "output_type": "stream",
     "text": [
      "\n"
     ]
    }
   ],
   "source": [
    "fee_rate_list_table={}\n",
    "for i in tnrange(len(env_name), desc= \"env\"):\n",
    "    env = env_name[i]\n",
    "    for agent_num in tnrange(1,31, desc=f\"agent num\"):       \n",
    "        fee_rate_list_= fee_rate_list(env,agent_num)\n",
    "\n",
    "    \n",
    "    fee_rate_list_table[env] = fee_rate_list_"
   ]
  },
  {
   "cell_type": "code",
   "execution_count": 7,
   "metadata": {},
   "outputs": [
    {
     "data": {
      "text/plain": [
       "dict_keys(['bollinger', 'macd', 'stochastic', 'rsi', '0.000', '0.003', '0.005'])"
      ]
     },
     "execution_count": 7,
     "metadata": {},
     "output_type": "execute_result"
    }
   ],
   "source": [
    "fee_rate_list_table.keys()"
   ]
  },
  {
   "cell_type": "code",
   "execution_count": 17,
   "metadata": {},
   "outputs": [
    {
     "data": {
      "image/png": "[encoded data removed]",
      "text/plain": [
       "<Figure size 432x288 with 1 Axes>"
      ]
     },
     "metadata": {
      "needs_background": "light"
     },
     "output_type": "display_data"
    }
   ],
   "source": [
    "# compare plot\n",
    "%matplotlib inline\n",
    "for env in env_name:\n",
    "#     if env==\"macd\":\n",
    "#         continue\n",
    "    plt.plot( fee_rate_list_table[env], label = env)\n",
    "plt.title(\"Fee rate change\")\n",
    "plt.ylabel(\"Fee rate\")\n",
    "plt.legend()\n",
    "plt.show()\n"
   ]
  },
  {
   "cell_type": "code",
   "execution_count": 9,
   "metadata": {},
   "outputs": [],
   "source": [
    "import pickle"
   ]
  },
  {
   "cell_type": "code",
   "execution_count": 10,
   "metadata": {},
   "outputs": [],
   "source": [
    "with open(\"saves/fee_rate_dict.pkl\",'wb') as f:\n",
    "    pickle.dump(fee_rate_list_table,f)"
   ]
  },
  {
   "cell_type": "markdown",
   "metadata": {},
   "source": [
    "## draw total fee and volume "
   ]
  },
  {
   "cell_type": "code",
   "execution_count": 19,
   "metadata": {},
   "outputs": [],
   "source": [
    "def load_agent_and_run(env_name, agent_num, fee=0.001):\n",
    "\n",
    "    load_location = 'saves/transfer/{}/{}'.format(env_name,agent_num)\n",
    "    class args():\n",
    "        def __init__(self, name,fee=0.001):\n",
    "            self.environment=name\n",
    "            self.fee = fee\n",
    "    args = args(env_name, fee)\n",
    "    env = TradingEnv(custom_args=args, env_id='custom_trading_env', obs_data_len=obs_data_len, step_len=step_len, sample_len=sample_len,\n",
    "                               df=df, fee=args.fee, initial_budget=1, n_action_intervals=n_action_intervals, deal_col_name='c', sell_at_end=True,\n",
    "                               feature_names=['o', 'h','l','c','v',\n",
    "                                              'num_trades', 'taker_base_vol'])\n",
    "    agent = dqn_agent.Agent(action_size=2 * n_action_intervals + 1, obs_len=obs_data_len, num_features=env.reset().shape[-1], **hyperparams)\n",
    "    agent.qnetwork_local.load_state_dict(torch.load(os.path.join(load_location, 'TradingGym_Rainbow_400.pth'), map_location=device))\n",
    "    agent.qnetwork_local.to(device)\n",
    "    agent.qnetwork_local.eval()\n",
    "    \n",
    "    state = env.reset()\n",
    "    while True:\n",
    "        action = int(agent.act(state, eps=0.))\n",
    "        next_state, reward, done, _ ,fee_rate= env.step(action)\n",
    "        state = next_state\n",
    "        if done:\n",
    "            break\n",
    "        \n",
    "    return env.total_fee, env.total_volume\n",
    "\n",
    "\n",
    "\n"
   ]
  },
  {
   "cell_type": "code",
   "execution_count": 20,
   "metadata": {},
   "outputs": [],
   "source": [
    "fee_table = {}\n",
    "volume_table = {}"
   ]
  },
  {
   "cell_type": "code",
   "execution_count": 22,
   "metadata": {},
   "outputs": [
    {
     "data": {
      "text/plain": [
       "dict_keys(['bollinger', 'macd', 'stochastic', 'rsi'])"
      ]
     },
     "execution_count": 22,
     "metadata": {},
     "output_type": "execute_result"
    }
   ],
   "source": [
    "fee_table.keys()"
   ]
  },
  {
   "cell_type": "code",
   "execution_count": 24,
   "metadata": {
    "scrolled": true
   },
   "outputs": [
    {
     "data": {
      "application/vnd.jupyter.widget-view+json": {
       "model_id": "91a810ef339b427090a0c27161c1e0e0",
       "version_major": 2,
       "version_minor": 0
      },
      "text/plain": [
       "HBox(children=(IntProgress(value=0, description='env', max=7, style=ProgressStyle(description_width='initial')…"
      ]
     },
     "metadata": {},
     "output_type": "display_data"
    },
    {
     "data": {
      "application/vnd.jupyter.widget-view+json": {
       "model_id": "030ab77b0c544b4ab5a61c17dd1f3897",
       "version_major": 2,
       "version_minor": 0
      },
      "text/plain": [
       "HBox(children=(IntProgress(value=0, description='agent num', max=30, style=ProgressStyle(description_width='in…"
      ]
     },
     "metadata": {},
     "output_type": "display_data"
    },
    {
     "name": "stderr",
     "output_type": "stream",
     "text": [
      "[2019-09-06 20:41:30,454] Making new env: custom_trading_env\n",
      "[2019-09-06 20:41:32,153] Making new env: custom_trading_env\n",
      "[2019-09-06 20:41:33,813] Making new env: custom_trading_env\n",
      "[2019-09-06 20:41:35,437] Making new env: custom_trading_env\n",
      "[2019-09-06 20:41:37,109] Making new env: custom_trading_env\n",
      "[2019-09-06 20:41:38,675] Making new env: custom_trading_env\n",
      "[2019-09-06 20:41:40,341] Making new env: custom_trading_env\n",
      "[2019-09-06 20:41:41,949] Making new env: custom_trading_env\n",
      "[2019-09-06 20:41:43,563] Making new env: custom_trading_env\n",
      "[2019-09-06 20:41:45,182] Making new env: custom_trading_env\n",
      "[2019-09-06 20:41:46,791] Making new env: custom_trading_env\n",
      "[2019-09-06 20:41:48,473] Making new env: custom_trading_env\n",
      "[2019-09-06 20:41:50,158] Making new env: custom_trading_env\n",
      "[2019-09-06 20:41:51,872] Making new env: custom_trading_env\n",
      "[2019-09-06 20:41:53,557] Making new env: custom_trading_env\n",
      "[2019-09-06 20:41:55,266] Making new env: custom_trading_env\n",
      "[2019-09-06 20:41:56,970] Making new env: custom_trading_env\n",
      "[2019-09-06 20:41:58,617] Making new env: custom_trading_env\n",
      "[2019-09-06 20:42:00,239] Making new env: custom_trading_env\n",
      "[2019-09-06 20:42:01,875] Making new env: custom_trading_env\n",
      "[2019-09-06 20:42:03,519] Making new env: custom_trading_env\n",
      "[2019-09-06 20:42:05,114] Making new env: custom_trading_env\n",
      "[2019-09-06 20:42:06,841] Making new env: custom_trading_env\n",
      "[2019-09-06 20:42:08,528] Making new env: custom_trading_env\n",
      "[2019-09-06 20:42:10,192] Making new env: custom_trading_env\n",
      "[2019-09-06 20:42:11,826] Making new env: custom_trading_env\n",
      "[2019-09-06 20:42:13,376] Making new env: custom_trading_env\n",
      "[2019-09-06 20:42:15,027] Making new env: custom_trading_env\n",
      "[2019-09-06 20:42:16,659] Making new env: custom_trading_env\n",
      "[2019-09-06 20:42:18,249] Making new env: custom_trading_env\n"
     ]
    },
    {
     "data": {
      "application/vnd.jupyter.widget-view+json": {
       "model_id": "46cb534e6da84c288b7ddfc5a6620908",
       "version_major": 2,
       "version_minor": 0
      },
      "text/plain": [
       "HBox(children=(IntProgress(value=0, description='agent num', max=30, style=ProgressStyle(description_width='in…"
      ]
     },
     "metadata": {},
     "output_type": "display_data"
    },
    {
     "name": "stderr",
     "output_type": "stream",
     "text": [
      "[2019-09-06 20:42:19,897] Making new env: custom_trading_env\n",
      "[2019-09-06 20:42:21,188] Making new env: custom_trading_env\n",
      "[2019-09-06 20:42:22,532] Making new env: custom_trading_env\n",
      "[2019-09-06 20:42:23,937] Making new env: custom_trading_env\n",
      "[2019-09-06 20:42:25,293] Making new env: custom_trading_env\n",
      "[2019-09-06 20:42:26,689] Making new env: custom_trading_env\n",
      "[2019-09-06 20:42:28,029] Making new env: custom_trading_env\n",
      "[2019-09-06 20:42:29,392] Making new env: custom_trading_env\n",
      "[2019-09-06 20:42:30,786] Making new env: custom_trading_env\n",
      "[2019-09-06 20:42:32,150] Making new env: custom_trading_env\n",
      "[2019-09-06 20:42:33,523] Making new env: custom_trading_env\n",
      "[2019-09-06 20:42:34,897] Making new env: custom_trading_env\n",
      "[2019-09-06 20:42:36,265] Making new env: custom_trading_env\n",
      "[2019-09-06 20:42:37,671] Making new env: custom_trading_env\n",
      "[2019-09-06 20:42:39,052] Making new env: custom_trading_env\n",
      "[2019-09-06 20:42:40,377] Making new env: custom_trading_env\n",
      "[2019-09-06 20:42:41,749] Making new env: custom_trading_env\n",
      "[2019-09-06 20:42:43,116] Making new env: custom_trading_env\n",
      "[2019-09-06 20:42:44,477] Making new env: custom_trading_env\n",
      "[2019-09-06 20:42:45,873] Making new env: custom_trading_env\n",
      "[2019-09-06 20:42:47,234] Making new env: custom_trading_env\n",
      "[2019-09-06 20:42:48,554] Making new env: custom_trading_env\n",
      "[2019-09-06 20:42:49,932] Making new env: custom_trading_env\n",
      "[2019-09-06 20:42:51,330] Making new env: custom_trading_env\n",
      "[2019-09-06 20:42:52,703] Making new env: custom_trading_env\n",
      "[2019-09-06 20:42:54,048] Making new env: custom_trading_env\n",
      "[2019-09-06 20:42:55,451] Making new env: custom_trading_env\n",
      "[2019-09-06 20:42:56,797] Making new env: custom_trading_env\n",
      "[2019-09-06 20:42:58,196] Making new env: custom_trading_env\n",
      "[2019-09-06 20:42:59,615] Making new env: custom_trading_env\n"
     ]
    },
    {
     "data": {
      "application/vnd.jupyter.widget-view+json": {
       "model_id": "b9da3237380948d4b34ab3800979e74e",
       "version_major": 2,
       "version_minor": 0
      },
      "text/plain": [
       "HBox(children=(IntProgress(value=0, description='agent num', max=30, style=ProgressStyle(description_width='in…"
      ]
     },
     "metadata": {},
     "output_type": "display_data"
    },
    {
     "name": "stderr",
     "output_type": "stream",
     "text": [
      "[2019-09-06 20:43:00,987] Making new env: custom_trading_env\n",
      "[2019-09-06 20:43:02,491] Making new env: custom_trading_env\n",
      "[2019-09-06 20:43:03,994] Making new env: custom_trading_env\n",
      "[2019-09-06 20:43:05,486] Making new env: custom_trading_env\n",
      "[2019-09-06 20:43:06,937] Making new env: custom_trading_env\n",
      "[2019-09-06 20:43:08,452] Making new env: custom_trading_env\n",
      "[2019-09-06 20:43:09,932] Making new env: custom_trading_env\n",
      "[2019-09-06 20:43:11,378] Making new env: custom_trading_env\n",
      "[2019-09-06 20:43:12,830] Making new env: custom_trading_env\n",
      "[2019-09-06 20:43:14,259] Making new env: custom_trading_env\n",
      "[2019-09-06 20:43:15,771] Making new env: custom_trading_env\n",
      "[2019-09-06 20:43:17,272] Making new env: custom_trading_env\n",
      "[2019-09-06 20:43:18,829] Making new env: custom_trading_env\n",
      "[2019-09-06 20:43:20,257] Making new env: custom_trading_env\n",
      "[2019-09-06 20:43:21,719] Making new env: custom_trading_env\n",
      "[2019-09-06 20:43:23,185] Making new env: custom_trading_env\n",
      "[2019-09-06 20:43:24,655] Making new env: custom_trading_env\n",
      "[2019-09-06 20:43:26,133] Making new env: custom_trading_env\n",
      "[2019-09-06 20:43:27,640] Making new env: custom_trading_env\n",
      "[2019-09-06 20:43:29,199] Making new env: custom_trading_env\n",
      "[2019-09-06 20:43:30,692] Making new env: custom_trading_env\n",
      "[2019-09-06 20:43:32,168] Making new env: custom_trading_env\n",
      "[2019-09-06 20:43:33,583] Making new env: custom_trading_env\n",
      "[2019-09-06 20:43:35,050] Making new env: custom_trading_env\n",
      "[2019-09-06 20:43:36,549] Making new env: custom_trading_env\n",
      "[2019-09-06 20:43:38,011] Making new env: custom_trading_env\n",
      "[2019-09-06 20:43:39,486] Making new env: custom_trading_env\n",
      "[2019-09-06 20:43:40,984] Making new env: custom_trading_env\n",
      "[2019-09-06 20:43:42,508] Making new env: custom_trading_env\n",
      "[2019-09-06 20:43:44,042] Making new env: custom_trading_env\n"
     ]
    },
    {
     "data": {
      "application/vnd.jupyter.widget-view+json": {
       "model_id": "6b38647e477c4ace8528bd9f58b43d2c",
       "version_major": 2,
       "version_minor": 0
      },
      "text/plain": [
       "HBox(children=(IntProgress(value=0, description='agent num', max=30, style=ProgressStyle(description_width='in…"
      ]
     },
     "metadata": {},
     "output_type": "display_data"
    },
    {
     "name": "stderr",
     "output_type": "stream",
     "text": [
      "[2019-09-06 20:43:45,566] Making new env: custom_trading_env\n",
      "[2019-09-06 20:43:47,919] Making new env: custom_trading_env\n",
      "[2019-09-06 20:43:50,188] Making new env: custom_trading_env\n",
      "[2019-09-06 20:43:52,485] Making new env: custom_trading_env\n",
      "[2019-09-06 20:43:54,701] Making new env: custom_trading_env\n",
      "[2019-09-06 20:43:56,950] Making new env: custom_trading_env\n",
      "[2019-09-06 20:43:59,338] Making new env: custom_trading_env\n",
      "[2019-09-06 20:44:01,646] Making new env: custom_trading_env\n",
      "[2019-09-06 20:44:03,997] Making new env: custom_trading_env\n",
      "[2019-09-06 20:44:06,354] Making new env: custom_trading_env\n",
      "[2019-09-06 20:44:08,682] Making new env: custom_trading_env\n",
      "[2019-09-06 20:44:10,900] Making new env: custom_trading_env\n",
      "[2019-09-06 20:44:13,145] Making new env: custom_trading_env\n",
      "[2019-09-06 20:44:15,355] Making new env: custom_trading_env\n",
      "[2019-09-06 20:44:17,532] Making new env: custom_trading_env\n",
      "[2019-09-06 20:44:19,728] Making new env: custom_trading_env\n",
      "[2019-09-06 20:44:21,972] Making new env: custom_trading_env\n",
      "[2019-09-06 20:44:24,175] Making new env: custom_trading_env\n",
      "[2019-09-06 20:44:26,530] Making new env: custom_trading_env\n",
      "[2019-09-06 20:44:28,862] Making new env: custom_trading_env\n",
      "[2019-09-06 20:44:31,081] Making new env: custom_trading_env\n",
      "[2019-09-06 20:44:33,299] Making new env: custom_trading_env\n",
      "[2019-09-06 20:44:35,543] Making new env: custom_trading_env\n",
      "[2019-09-06 20:44:37,748] Making new env: custom_trading_env\n",
      "[2019-09-06 20:44:39,962] Making new env: custom_trading_env\n",
      "[2019-09-06 20:44:42,187] Making new env: custom_trading_env\n",
      "[2019-09-06 20:44:44,388] Making new env: custom_trading_env\n",
      "[2019-09-06 20:44:46,556] Making new env: custom_trading_env\n",
      "[2019-09-06 20:44:48,740] Making new env: custom_trading_env\n",
      "[2019-09-06 20:44:50,962] Making new env: custom_trading_env\n"
     ]
    },
    {
     "data": {
      "application/vnd.jupyter.widget-view+json": {
       "model_id": "9a3c2681a2404f69b778983e06af53a9",
       "version_major": 2,
       "version_minor": 0
      },
      "text/plain": [
       "HBox(children=(IntProgress(value=0, description='agent num', max=30, style=ProgressStyle(description_width='in…"
      ]
     },
     "metadata": {},
     "output_type": "display_data"
    },
    {
     "name": "stderr",
     "output_type": "stream",
     "text": [
      "[2019-09-06 20:44:53,179] Making new env: custom_trading_env\n",
      "[2019-09-06 20:44:54,128] Making new env: custom_trading_env\n",
      "[2019-09-06 20:44:55,085] Making new env: custom_trading_env\n",
      "[2019-09-06 20:44:56,024] Making new env: custom_trading_env\n",
      "[2019-09-06 20:44:56,996] Making new env: custom_trading_env\n",
      "[2019-09-06 20:44:57,979] Making new env: custom_trading_env\n",
      "[2019-09-06 20:44:58,958] Making new env: custom_trading_env\n",
      "[2019-09-06 20:44:59,943] Making new env: custom_trading_env\n",
      "[2019-09-06 20:45:00,919] Making new env: custom_trading_env\n",
      "[2019-09-06 20:45:01,898] Making new env: custom_trading_env\n",
      "[2019-09-06 20:45:02,891] Making new env: custom_trading_env\n",
      "[2019-09-06 20:45:03,879] Making new env: custom_trading_env\n",
      "[2019-09-06 20:45:04,842] Making new env: custom_trading_env\n",
      "[2019-09-06 20:45:05,799] Making new env: custom_trading_env\n",
      "[2019-09-06 20:45:06,793] Making new env: custom_trading_env\n",
      "[2019-09-06 20:45:07,745] Making new env: custom_trading_env\n",
      "[2019-09-06 20:45:08,701] Making new env: custom_trading_env\n",
      "[2019-09-06 20:45:09,658] Making new env: custom_trading_env\n",
      "[2019-09-06 20:45:10,613] Making new env: custom_trading_env\n",
      "[2019-09-06 20:45:11,579] Making new env: custom_trading_env\n",
      "[2019-09-06 20:45:12,566] Making new env: custom_trading_env\n",
      "[2019-09-06 20:45:13,535] Making new env: custom_trading_env\n",
      "[2019-09-06 20:45:14,497] Making new env: custom_trading_env\n",
      "[2019-09-06 20:45:15,508] Making new env: custom_trading_env\n",
      "[2019-09-06 20:45:16,454] Making new env: custom_trading_env\n",
      "[2019-09-06 20:45:17,402] Making new env: custom_trading_env\n",
      "[2019-09-06 20:45:18,362] Making new env: custom_trading_env\n",
      "[2019-09-06 20:45:19,343] Making new env: custom_trading_env\n",
      "[2019-09-06 20:45:20,294] Making new env: custom_trading_env\n",
      "[2019-09-06 20:45:21,229] Making new env: custom_trading_env\n"
     ]
    },
    {
     "data": {
      "application/vnd.jupyter.widget-view+json": {
       "model_id": "2a7261c3dc9d4c918e76186bc9e6befe",
       "version_major": 2,
       "version_minor": 0
      },
      "text/plain": [
       "HBox(children=(IntProgress(value=0, description='agent num', max=30, style=ProgressStyle(description_width='in…"
      ]
     },
     "metadata": {},
     "output_type": "display_data"
    },
    {
     "name": "stderr",
     "output_type": "stream",
     "text": [
      "[2019-09-06 20:45:22,186] Making new env: custom_trading_env\n",
      "[2019-09-06 20:45:23,120] Making new env: custom_trading_env\n",
      "[2019-09-06 20:45:24,095] Making new env: custom_trading_env\n",
      "[2019-09-06 20:45:25,060] Making new env: custom_trading_env\n",
      "[2019-09-06 20:45:26,041] Making new env: custom_trading_env\n",
      "[2019-09-06 20:45:27,022] Making new env: custom_trading_env\n",
      "[2019-09-06 20:45:27,941] Making new env: custom_trading_env\n",
      "[2019-09-06 20:45:28,884] Making new env: custom_trading_env\n",
      "[2019-09-06 20:45:29,863] Making new env: custom_trading_env\n",
      "[2019-09-06 20:45:30,832] Making new env: custom_trading_env\n",
      "[2019-09-06 20:45:31,805] Making new env: custom_trading_env\n",
      "[2019-09-06 20:45:32,778] Making new env: custom_trading_env\n",
      "[2019-09-06 20:45:33,731] Making new env: custom_trading_env\n",
      "[2019-09-06 20:45:34,686] Making new env: custom_trading_env\n",
      "[2019-09-06 20:45:35,652] Making new env: custom_trading_env\n",
      "[2019-09-06 20:45:36,651] Making new env: custom_trading_env\n",
      "[2019-09-06 20:45:37,627] Making new env: custom_trading_env\n",
      "[2019-09-06 20:45:38,602] Making new env: custom_trading_env\n",
      "[2019-09-06 20:45:39,599] Making new env: custom_trading_env\n",
      "[2019-09-06 20:45:40,588] Making new env: custom_trading_env\n",
      "[2019-09-06 20:45:41,545] Making new env: custom_trading_env\n",
      "[2019-09-06 20:45:42,518] Making new env: custom_trading_env\n",
      "[2019-09-06 20:45:43,504] Making new env: custom_trading_env\n",
      "[2019-09-06 20:45:44,503] Making new env: custom_trading_env\n",
      "[2019-09-06 20:45:45,500] Making new env: custom_trading_env\n",
      "[2019-09-06 20:45:46,478] Making new env: custom_trading_env\n",
      "[2019-09-06 20:45:47,473] Making new env: custom_trading_env\n",
      "[2019-09-06 20:45:48,462] Making new env: custom_trading_env\n",
      "[2019-09-06 20:45:49,449] Making new env: custom_trading_env\n",
      "[2019-09-06 20:45:50,401] Making new env: custom_trading_env\n"
     ]
    },
    {
     "data": {
      "application/vnd.jupyter.widget-view+json": {
       "model_id": "3db4368c7d504dd1a12c02c462d07e7b",
       "version_major": 2,
       "version_minor": 0
      },
      "text/plain": [
       "HBox(children=(IntProgress(value=0, description='agent num', max=30, style=ProgressStyle(description_width='in…"
      ]
     },
     "metadata": {},
     "output_type": "display_data"
    },
    {
     "name": "stderr",
     "output_type": "stream",
     "text": [
      "[2019-09-06 20:45:51,359] Making new env: custom_trading_env\n",
      "[2019-09-06 20:45:52,336] Making new env: custom_trading_env\n",
      "[2019-09-06 20:45:53,307] Making new env: custom_trading_env\n",
      "[2019-09-06 20:45:54,297] Making new env: custom_trading_env\n",
      "[2019-09-06 20:45:55,274] Making new env: custom_trading_env\n",
      "[2019-09-06 20:45:56,207] Making new env: custom_trading_env\n",
      "[2019-09-06 20:45:57,182] Making new env: custom_trading_env\n",
      "[2019-09-06 20:45:58,159] Making new env: custom_trading_env\n",
      "[2019-09-06 20:45:59,132] Making new env: custom_trading_env\n",
      "[2019-09-06 20:46:00,120] Making new env: custom_trading_env\n",
      "[2019-09-06 20:46:01,102] Making new env: custom_trading_env\n",
      "[2019-09-06 20:46:02,107] Making new env: custom_trading_env\n",
      "[2019-09-06 20:46:03,095] Making new env: custom_trading_env\n",
      "[2019-09-06 20:46:04,086] Making new env: custom_trading_env\n",
      "[2019-09-06 20:46:05,069] Making new env: custom_trading_env\n",
      "[2019-09-06 20:46:06,050] Making new env: custom_trading_env\n",
      "[2019-09-06 20:46:07,056] Making new env: custom_trading_env\n",
      "[2019-09-06 20:46:08,053] Making new env: custom_trading_env\n",
      "[2019-09-06 20:46:09,035] Making new env: custom_trading_env\n",
      "[2019-09-06 20:46:10,005] Making new env: custom_trading_env\n",
      "[2019-09-06 20:46:10,968] Making new env: custom_trading_env\n",
      "[2019-09-06 20:46:11,931] Making new env: custom_trading_env\n",
      "[2019-09-06 20:46:12,886] Making new env: custom_trading_env\n",
      "[2019-09-06 20:46:13,825] Making new env: custom_trading_env\n",
      "[2019-09-06 20:46:14,775] Making new env: custom_trading_env\n",
      "[2019-09-06 20:46:15,760] Making new env: custom_trading_env\n",
      "[2019-09-06 20:46:16,732] Making new env: custom_trading_env\n",
      "[2019-09-06 20:46:17,715] Making new env: custom_trading_env\n",
      "[2019-09-06 20:46:18,699] Making new env: custom_trading_env\n",
      "[2019-09-06 20:46:19,699] Making new env: custom_trading_env\n"
     ]
    }
   ],
   "source": [
    "for i in tnrange(len(env_name), desc= \"env\"):\n",
    "    env = env_name[i]\n",
    "    \n",
    "    env_fee = 0.\n",
    "    env_volume = 0.\n",
    "    for agent_num in tnrange(1,31, desc=f\"agent num\"):\n",
    "        if env in [\"0.000\",\"0.003\",\"0.005\"]:\n",
    "            fee, volume= load_agent_and_run(env,agent_num, float(env))\n",
    "        else:\n",
    "            fee, volume= load_agent_and_run(env,agent_num)\n",
    "        env_fee+=fee\n",
    "        env_volume+=volume\n",
    "    \n",
    "    fee_table[env] = env_fee\n",
    "    volume_table[env] = env_volume"
   ]
  },
  {
   "cell_type": "code",
   "execution_count": 25,
   "metadata": {},
   "outputs": [
    {
     "data": {
      "text/plain": [
       "0.10164514765703969"
      ]
     },
     "execution_count": 25,
     "metadata": {},
     "output_type": "execute_result"
    }
   ],
   "source": [
    "env_fee"
   ]
  },
  {
   "cell_type": "code",
   "execution_count": 26,
   "metadata": {},
   "outputs": [
    {
     "data": {
      "text/plain": [
       "29173.760317489563"
      ]
     },
     "execution_count": 26,
     "metadata": {},
     "output_type": "execute_result"
    }
   ],
   "source": [
    "env_volume"
   ]
  },
  {
   "cell_type": "markdown",
   "metadata": {},
   "source": [
    "#load fee_table and volume_table\n",
    "import pickle\n",
    "with open('fee_table.pkl','rb') as f:\n",
    "    fee_table_ = pickle.load(f)\n",
    "with open('volume_table.pkl','rb') as f:\n",
    "    volume_table_ = pickle.load(f)\n",
    "\n",
    "fee_table = {**fee_table, **fee_table_}\n",
    "fee_table\n",
    "\n",
    "volume_table = {**volume_table, **volume_table_}\n",
    "volume_table"
   ]
  },
  {
   "cell_type": "code",
   "execution_count": 27,
   "metadata": {},
   "outputs": [],
   "source": [
    "%matplotlib inline"
   ]
  },
  {
   "cell_type": "code",
   "execution_count": 28,
   "metadata": {},
   "outputs": [
    {
     "data": {
      "image/png": "[encoded data removed]",
      "text/plain": [
       "<Figure size 432x288 with 1 Axes>"
      ]
     },
     "metadata": {
      "needs_background": "light"
     },
     "output_type": "display_data"
    }
   ],
   "source": [
    "# compare plot\n",
    "# env_name = [\"bollinger\", \"macd\", \"stochastic\", \"rsi\",\"0.003\",'0.005']\n",
    "for env in env_name:\n",
    "    plt.bar(x = env, height = fee_table[env])\n",
    "plt.title(\"Total fee\")\n",
    "plt.ylabel(\"BTC\")\n",
    "plt.show()\n"
   ]
  },
  {
   "cell_type": "code",
   "execution_count": 29,
   "metadata": {},
   "outputs": [
    {
     "data": {
      "image/png": "[encoded data removed]",
      "text/plain": [
       "<Figure size 432x288 with 1 Axes>"
      ]
     },
     "metadata": {
      "needs_background": "light"
     },
     "output_type": "display_data"
    }
   ],
   "source": [
    "# compare plot\n",
    "for env in env_name:\n",
    "    plt.bar(x = env, height = volume_table[env])\n",
    "plt.title(\"Total volume\")\n",
    "plt.ylabel(\"BTC\")\n",
    "plt.show()\n"
   ]
  },
  {
   "cell_type": "code",
   "execution_count": 30,
   "metadata": {},
   "outputs": [
    {
     "data": {
      "image/png": "[encoded data removed]",
      "text/plain": [
       "<Figure size 432x288 with 1 Axes>"
      ]
     },
     "metadata": {
      "needs_background": "light"
     },
     "output_type": "display_data"
    }
   ],
   "source": [
    "avg_fee_table=dict(zip(fee_table.keys(),np.array(list(fee_table.values()))/np.array(list(volume_table.values()))))\n",
    "for env in env_name:\n",
    "    plt.bar(x = env, height = avg_fee_table[env])\n",
    "plt.title(\"fee/vol\")\n",
    "plt.ylabel(\"BTC\")\n",
    "plt.show()"
   ]
  },
  {
   "cell_type": "code",
   "execution_count": 31,
   "metadata": {},
   "outputs": [],
   "source": [
    "# save\n",
    "import pickle\n",
    "\n",
    "with open(\"fee_table.pkl\",'wb') as f:\n",
    "    pickle.dump(fee_table, f)\n",
    "\n",
    "with open(\"volume_table.pkl\",'wb') as f:\n",
    "    pickle.dump(volume_table, f)"
   ]
  },
  {
   "cell_type": "code",
   "execution_count": null,
   "metadata": {},
   "outputs": [],
   "source": []
  }
 ],
 "metadata": {
  "kernelspec": {
   "display_name": "RL",
   "language": "python",
   "name": "rl"
  },
  "language_info": {
   "codemirror_mode": {
    "name": "ipython",
    "version": 3
   },
   "file_extension": ".py",
   "mimetype": "text/x-python",
   "name": "python",
   "nbconvert_exporter": "python",
   "pygments_lexer": "ipython3",
   "version": "3.7.2"
  }
 },
 "nbformat": 4,
 "nbformat_minor": 2
}
