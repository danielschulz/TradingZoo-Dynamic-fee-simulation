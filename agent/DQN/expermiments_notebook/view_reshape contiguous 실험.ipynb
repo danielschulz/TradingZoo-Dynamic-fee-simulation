{
 "cells": [
  {
   "cell_type": "code",
   "execution_count": 1,
   "metadata": {},
   "outputs": [],
   "source": [
    "import torch"
   ]
  },
  {
   "cell_type": "code",
   "execution_count": 4,
   "metadata": {},
   "outputs": [
    {
     "data": {
      "text/plain": [
       "tensor([[0.1835, 0.7825],\n",
       "        [0.4825, 0.4151],\n",
       "        [0.3132, 0.9642],\n",
       "        [0.8966, 0.1929],\n",
       "        [0.0420, 0.5334]])"
      ]
     },
     "execution_count": 4,
     "metadata": {},
     "output_type": "execute_result"
    }
   ],
   "source": [
    "t = torch.rand(5,2)\n",
    "t"
   ]
  },
  {
   "cell_type": "code",
   "execution_count": 5,
   "metadata": {},
   "outputs": [
    {
     "data": {
      "text/plain": [
       "tensor([[0.1835, 0.7825, 0.4825, 0.4151, 0.3132, 0.9642, 0.8966, 0.1929, 0.0420,\n",
       "         0.5334]])"
      ]
     },
     "execution_count": 5,
     "metadata": {},
     "output_type": "execute_result"
    }
   ],
   "source": [
    "t.reshape(-1,10)"
   ]
  },
  {
   "cell_type": "code",
   "execution_count": 6,
   "metadata": {},
   "outputs": [
    {
     "data": {
      "text/plain": [
       "tensor([[0.1835, 0.7825, 0.4825, 0.4151, 0.3132, 0.9642, 0.8966, 0.1929, 0.0420,\n",
       "         0.5334]])"
      ]
     },
     "execution_count": 6,
     "metadata": {},
     "output_type": "execute_result"
    }
   ],
   "source": [
    "t.view(-1,10)"
   ]
  },
  {
   "cell_type": "code",
   "execution_count": 7,
   "metadata": {},
   "outputs": [
    {
     "data": {
      "text/plain": [
       "tensor([[0.1835, 0.7825],\n",
       "        [0.4825, 0.4151],\n",
       "        [0.3132, 0.9642],\n",
       "        [0.8966, 0.1929],\n",
       "        [0.0420, 0.5334]])"
      ]
     },
     "execution_count": 7,
     "metadata": {},
     "output_type": "execute_result"
    }
   ],
   "source": [
    "t"
   ]
  },
  {
   "cell_type": "code",
   "execution_count": 8,
   "metadata": {},
   "outputs": [
    {
     "data": {
      "text/plain": [
       "tensor([[0.1835, 0.7825, 0.4825, 0.4151, 0.3132, 0.9642, 0.8966, 0.1929, 0.0420,\n",
       "         0.5334]])"
      ]
     },
     "execution_count": 8,
     "metadata": {},
     "output_type": "execute_result"
    }
   ],
   "source": [
    "t.view(-1,10)"
   ]
  },
  {
   "cell_type": "code",
   "execution_count": 9,
   "metadata": {},
   "outputs": [
    {
     "data": {
      "text/plain": [
       "tensor([[0.1835, 0.7825],\n",
       "        [0.4825, 0.4151],\n",
       "        [0.3132, 0.9642],\n",
       "        [0.8966, 0.1929],\n",
       "        [0.0420, 0.5334]])"
      ]
     },
     "execution_count": 9,
     "metadata": {},
     "output_type": "execute_result"
    }
   ],
   "source": [
    "t"
   ]
  },
  {
   "cell_type": "code",
   "execution_count": 10,
   "metadata": {},
   "outputs": [
    {
     "data": {
      "text/plain": [
       "tensor([[0.1835, 0.4825, 0.3132, 0.8966, 0.0420],\n",
       "        [0.7825, 0.4151, 0.9642, 0.1929, 0.5334]])"
      ]
     },
     "execution_count": 10,
     "metadata": {},
     "output_type": "execute_result"
    }
   ],
   "source": [
    "y = t.transpose(0,1)\n",
    "y"
   ]
  },
  {
   "cell_type": "code",
   "execution_count": 12,
   "metadata": {},
   "outputs": [],
   "source": [
    "t[3,1] = 42"
   ]
  },
  {
   "cell_type": "code",
   "execution_count": 13,
   "metadata": {},
   "outputs": [
    {
     "data": {
      "text/plain": [
       "tensor([[1.8349e-01, 4.8246e-01, 3.1317e-01, 8.9655e-01, 4.1973e-02],\n",
       "        [7.8252e-01, 4.1506e-01, 9.6423e-01, 4.2000e+01, 5.3341e-01]])"
      ]
     },
     "execution_count": 13,
     "metadata": {},
     "output_type": "execute_result"
    }
   ],
   "source": [
    "y"
   ]
  },
  {
   "cell_type": "code",
   "execution_count": 14,
   "metadata": {},
   "outputs": [
    {
     "data": {
      "text/plain": [
       "tensor([[1.8349e-01, 7.8252e-01],\n",
       "        [4.8246e-01, 4.1506e-01],\n",
       "        [3.1317e-01, 9.6423e-01],\n",
       "        [8.9655e-01, 4.2000e+01],\n",
       "        [4.1973e-02, 5.3341e-01]])"
      ]
     },
     "execution_count": 14,
     "metadata": {},
     "output_type": "execute_result"
    }
   ],
   "source": [
    "t"
   ]
  },
  {
   "cell_type": "code",
   "execution_count": 15,
   "metadata": {},
   "outputs": [
    {
     "data": {
      "text/plain": [
       "tensor([[1.8349e-01, 4.8246e-01, 3.1317e-01, 8.9655e-01, 4.1973e-02],\n",
       "        [7.8252e-01, 4.1506e-01, 9.6423e-01, 4.2000e+01, 5.3341e-01]])"
      ]
     },
     "execution_count": 15,
     "metadata": {},
     "output_type": "execute_result"
    }
   ],
   "source": [
    "y2 = t.contiguous().transpose(0,1)\n",
    "y2"
   ]
  },
  {
   "cell_type": "code",
   "execution_count": 16,
   "metadata": {},
   "outputs": [],
   "source": [
    "t[3,1]=0.2"
   ]
  },
  {
   "cell_type": "code",
   "execution_count": 17,
   "metadata": {},
   "outputs": [
    {
     "data": {
      "text/plain": [
       "tensor([[0.1835, 0.4825, 0.3132, 0.8966, 0.0420],\n",
       "        [0.7825, 0.4151, 0.9642, 0.2000, 0.5334]])"
      ]
     },
     "execution_count": 17,
     "metadata": {},
     "output_type": "execute_result"
    }
   ],
   "source": [
    "y"
   ]
  },
  {
   "cell_type": "code",
   "execution_count": 18,
   "metadata": {},
   "outputs": [
    {
     "data": {
      "text/plain": [
       "tensor([[0.1835, 0.4825, 0.3132, 0.8966, 0.0420],\n",
       "        [0.7825, 0.4151, 0.9642, 0.2000, 0.5334]])"
      ]
     },
     "execution_count": 18,
     "metadata": {},
     "output_type": "execute_result"
    }
   ],
   "source": [
    "y2"
   ]
  },
  {
   "cell_type": "code",
   "execution_count": 19,
   "metadata": {},
   "outputs": [
    {
     "data": {
      "text/plain": [
       "tensor([[0.1835, 0.7825],\n",
       "        [0.4825, 0.4151],\n",
       "        [0.3132, 0.9642],\n",
       "        [0.8966, 0.2000],\n",
       "        [0.0420, 0.5334]])"
      ]
     },
     "execution_count": 19,
     "metadata": {},
     "output_type": "execute_result"
    }
   ],
   "source": [
    "t"
   ]
  },
  {
   "cell_type": "code",
   "execution_count": 20,
   "metadata": {},
   "outputs": [
    {
     "data": {
      "text/plain": [
       "tensor([0.1835, 0.7825, 0.4825, 0.4151, 0.3132, 0.9642, 0.8966, 0.2000, 0.0420,\n",
       "        0.5334])"
      ]
     },
     "execution_count": 20,
     "metadata": {},
     "output_type": "execute_result"
    }
   ],
   "source": [
    "t.reshape(10,)"
   ]
  },
  {
   "cell_type": "code",
   "execution_count": 24,
   "metadata": {},
   "outputs": [
    {
     "data": {
      "text/plain": [
       "tensor([[ 0,  1,  2],\n",
       "        [ 3,  4,  5],\n",
       "        [ 6,  7,  8],\n",
       "        [ 9, 10, 11]])"
      ]
     },
     "execution_count": 24,
     "metadata": {},
     "output_type": "execute_result"
    }
   ],
   "source": [
    "import numpy as np\n",
    "t = torch.tensor(np.arange(12)).view(4,3)\n",
    "t"
   ]
  },
  {
   "cell_type": "code",
   "execution_count": null,
   "metadata": {},
   "outputs": [],
   "source": []
  }
 ],
 "metadata": {
  "kernelspec": {
   "display_name": "Python 3",
   "language": "python",
   "name": "python3"
  },
  "language_info": {
   "codemirror_mode": {
    "name": "ipython",
    "version": 3
   },
   "file_extension": ".py",
   "mimetype": "text/x-python",
   "name": "python",
   "nbconvert_exporter": "python",
   "pygments_lexer": "ipython3",
   "version": "3.7.2"
  }
 },
 "nbformat": 4,
 "nbformat_minor": 2
}
