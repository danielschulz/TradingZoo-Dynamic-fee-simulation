{
 "cells": [
  {
   "cell_type": "code",
   "execution_count": 22,
   "metadata": {},
   "outputs": [],
   "source": [
    "import time\n",
    "import random\n",
    "import numpy as np\n",
    "import pandas as pd\n",
    "import torch\n",
    "import os\n",
    "\n",
    "from custom_trading_env import TradingEnv\n",
    "import DQNTradingAgent.dqn_agent as dqn_agent\n",
    "from arguments import argparser"
   ]
  },
  {
   "cell_type": "code",
   "execution_count": 23,
   "metadata": {},
   "outputs": [
    {
     "name": "stderr",
     "output_type": "stream",
     "text": [
      "[2019-07-24 12:38:21,906] Making new env: custom_trading_env\n"
     ]
    }
   ],
   "source": [
    "df = pd.read_hdf('./dataset/binance_data_test.h5', 'STW')\n",
    "df.fillna(method='ffill', inplace=True)\n",
    "\n",
    "sample_len   = len(df)\n",
    "obs_data_len = 192\n",
    "step_len     = 1\n",
    "n_action_intervals = 5\n",
    "init_budget = 1\n",
    "fee = 0.0015\n",
    "\n",
    "env = TradingEnv(custom_args=object(), env_id='custom_trading_env', obs_data_len=obs_data_len, step_len=step_len, sample_len=sample_len,\n",
    "                 df=df, fee=fee, initial_budget=1, n_action_intervals=n_action_intervals, deal_col_name='c', sell_at_end=True,\n",
    "                 feature_names=['o', 'h','l','c','v',\n",
    "                                'num_trades', 'taker_base_vol'])"
   ]
  },
  {
   "cell_type": "code",
   "execution_count": 24,
   "metadata": {},
   "outputs": [
    {
     "name": "stdout",
     "output_type": "stream",
     "text": [
      "Agent 1\n",
      "    Preparation time: 0.040446s\n",
      "    Episode time: 10.862381s\n",
      "    Post-processing time: 0.066922s\n",
      "Agent 2\n",
      "    Preparation time: 0.108675s\n",
      "    Episode time: 10.833650s\n",
      "    Post-processing time: 0.070273s\n",
      "Agent 3\n",
      "    Preparation time: 0.103312s\n",
      "    Episode time: 11.064006s\n",
      "    Post-processing time: 0.068874s\n",
      "Agent 4\n",
      "    Preparation time: 0.127812s\n",
      "    Episode time: 10.798428s\n",
      "    Post-processing time: 0.065775s\n",
      "Agent 5\n",
      "    Preparation time: 0.098608s\n",
      "    Episode time: 10.820936s\n",
      "    Post-processing time: 0.066924s\n",
      "Agent 6\n",
      "    Preparation time: 0.130497s\n",
      "    Episode time: 10.785473s\n",
      "    Post-processing time: 0.065423s\n",
      "Agent 7\n",
      "    Preparation time: 0.082062s\n",
      "    Episode time: 10.751024s\n",
      "    Post-processing time: 0.065455s\n",
      "Agent 8\n",
      "    Preparation time: 0.114612s\n",
      "    Episode time: 10.723139s\n",
      "    Post-processing time: 0.074772s\n",
      "Agent 9\n",
      "    Preparation time: 0.081039s\n",
      "    Episode time: 10.844620s\n",
      "    Post-processing time: 0.064528s\n",
      "Agent 10\n",
      "    Preparation time: 0.131954s\n",
      "    Episode time: 10.818836s\n",
      "    Post-processing time: 0.064598s\n",
      "Agent 11\n",
      "    Preparation time: 0.098719s\n",
      "    Episode time: 10.841265s\n",
      "    Post-processing time: 0.065706s\n",
      "Agent 12\n",
      "    Preparation time: 0.081643s\n",
      "    Episode time: 10.853875s\n",
      "    Post-processing time: 0.063741s\n",
      "Agent 13\n",
      "    Preparation time: 0.047026s\n",
      "    Episode time: 10.923976s\n",
      "    Post-processing time: 0.062970s\n",
      "Agent 14\n",
      "    Preparation time: 0.143446s\n",
      "    Episode time: 10.881538s\n",
      "    Post-processing time: 0.063873s\n",
      "Agent 15\n",
      "    Preparation time: 0.117798s\n",
      "    Episode time: 10.823560s\n",
      "    Post-processing time: 0.063122s\n",
      "Agent 16\n",
      "    Preparation time: 0.104697s\n",
      "    Episode time: 10.757741s\n",
      "    Post-processing time: 0.062597s\n",
      "Agent 17\n",
      "    Preparation time: 0.041977s\n",
      "    Episode time: 10.711316s\n",
      "    Post-processing time: 0.063167s\n",
      "Agent 18\n",
      "    Preparation time: 0.129452s\n",
      "    Episode time: 10.658857s\n",
      "    Post-processing time: 0.061749s\n",
      "Agent 19\n",
      "    Preparation time: 0.088983s\n",
      "    Episode time: 10.811945s\n",
      "    Post-processing time: 0.064317s\n",
      "Agent 20\n",
      "    Preparation time: 0.121556s\n",
      "    Episode time: 10.846465s\n",
      "    Post-processing time: 0.062983s\n",
      "Agent 21\n",
      "    Preparation time: 0.121794s\n",
      "    Episode time: 10.762949s\n",
      "    Post-processing time: 0.062004s\n",
      "Agent 22\n",
      "    Preparation time: 0.140346s\n",
      "    Episode time: 10.651857s\n",
      "    Post-processing time: 0.061105s\n",
      "Agent 23\n",
      "    Preparation time: 0.110365s\n",
      "    Episode time: 10.711567s\n",
      "    Post-processing time: 0.063363s\n",
      "Agent 24\n",
      "    Preparation time: 0.103699s\n",
      "    Episode time: 10.738706s\n",
      "    Post-processing time: 0.063726s\n",
      "Agent 25\n",
      "    Preparation time: 0.128213s\n",
      "    Episode time: 10.755392s\n",
      "    Post-processing time: 0.063440s\n",
      "Agent 26\n",
      "    Preparation time: 0.067745s\n",
      "    Episode time: 10.678888s\n",
      "    Post-processing time: 0.062479s\n",
      "Agent 27\n",
      "    Preparation time: 0.036725s\n",
      "    Episode time: 10.812468s\n",
      "    Post-processing time: 0.061724s\n"
     ]
    }
   ],
   "source": [
    "total_volume = []\n",
    "total_fee = []\n",
    "for i in range(1,27+1):\n",
    "    print(\"Agent\", i)\n",
    "    t0 = time.time()\n",
    "    save_location = 'saves/transfer1/0.0001/{}'.format(i)\n",
    "\n",
    "    device = torch.device(\"cuda:1\" if torch.cuda.is_available() else \"cpu\")\n",
    "    dqn_agent.set_device(device)\n",
    "    load_weight_n = 500\n",
    "\n",
    "    state = env.reset()\n",
    "    # env.render()\n",
    "\n",
    "    hyperparams = torch.load(os.path.join(save_location, \"hyperparams.pth\"))\n",
    "\n",
    "    agent = dqn_agent.Agent(action_size=2 * n_action_intervals + 1, obs_len=obs_data_len, num_features=state.shape[-1], **hyperparams)\n",
    "    agent.qnetwork_local.load_state_dict(torch.load(os.path.join(save_location, 'TradingGym_Rainbow_{:d}.pth'.format(load_weight_n)), map_location=device))\n",
    "    agent.qnetwork_local.to(device)\n",
    "    agent.qnetwork_local.eval()\n",
    "\n",
    "    done = False\n",
    "    \n",
    "    t1 = time.time()\n",
    "    print(\"    Preparation time: {:f}s\".format(t1 - t0))\n",
    "\n",
    "    while not done:\n",
    "\n",
    "        action = int(agent.act(state))\n",
    "        state, reward, done, info = env.step(action)\n",
    "    #     print()\n",
    "    #     print(\"Action:\", action)\n",
    "    #     print(\"Budget:\", env.budget)\n",
    "    #     print(\"Reward:\", reward)\n",
    "        if done:\n",
    "            break\n",
    "    \n",
    "    t2 = time.time()\n",
    "    print(\"    Episode time: {:f}s\".format(t2 - t1))\n",
    "\n",
    "    total_volume.append(info['position_variation'].abs().sum())\n",
    "    \n",
    "    if not os.path.exists(f\"Results/{str(fee)}/\"):\n",
    "        os.makedirs(f\"Results/{str(fee)}\")\n",
    "    info.to_csv(f\"Results/{str(fee)}/info_{i}.csv\")\n",
    "    total_fee.append(env.total_fee)\n",
    "    print(\"    Post-processing time: {:f}s\".format(time.time() - t2))"
   ]
  },
  {
   "cell_type": "code",
   "execution_count": 13,
   "metadata": {},
   "outputs": [
    {
     "data": {
      "text/plain": [
       "27"
      ]
     },
     "execution_count": 13,
     "metadata": {},
     "output_type": "execute_result"
    }
   ],
   "source": [
    "len(total_fee)"
   ]
  },
  {
   "cell_type": "code",
   "execution_count": 14,
   "metadata": {},
   "outputs": [],
   "source": [
    "import matplotlib.pyplot as plt"
   ]
  },
  {
   "cell_type": "code",
   "execution_count": 15,
   "metadata": {},
   "outputs": [
    {
     "data": {
      "text/plain": [
       "Text(0.5, 0, 'N_agent')"
      ]
     },
     "execution_count": 15,
     "metadata": {},
     "output_type": "execute_result"
    },
    {
     "data": {
      "image/png": "[encoded data removed]",
      "text/plain": [
       "<Figure size 432x288 with 1 Axes>"
      ]
     },
     "metadata": {
      "needs_background": "light"
     },
     "output_type": "display_data"
    }
   ],
   "source": [
    "plt.plot(total_fee)\n",
    "plt.grid()\n",
    "plt.title(\"Total fee\")\n",
    "plt.xlabel(\"N_agent\")"
   ]
  },
  {
   "cell_type": "code",
   "execution_count": 16,
   "metadata": {},
   "outputs": [
    {
     "data": {
      "text/plain": [
       "Text(0.5, 0, 'N_agent')"
      ]
     },
     "execution_count": 16,
     "metadata": {},
     "output_type": "execute_result"
    },
    {
     "data": {
      "image/png": "[encoded data removed]",
      "text/plain": [
       "<Figure size 432x288 with 1 Axes>"
      ]
     },
     "metadata": {
      "needs_background": "light"
     },
     "output_type": "display_data"
    }
   ],
   "source": [
    "plt.plot(total_volume)\n",
    "plt.grid()\n",
    "plt.title(\"Total Volume\")\n",
    "plt.xlabel(\"N_agent\")"
   ]
  },
  {
   "cell_type": "code",
   "execution_count": 17,
   "metadata": {},
   "outputs": [],
   "source": [
    "import pickle as pkl"
   ]
  },
  {
   "cell_type": "code",
   "execution_count": 18,
   "metadata": {},
   "outputs": [],
   "source": [
    "with open(f\"Results/{fee}_total_fee\", 'wb') as pickle_file:\n",
    "    pkl.dump(total_fee, pickle_file)"
   ]
  },
  {
   "cell_type": "markdown",
   "metadata": {},
   "source": [
    "## 0.0005랑 한 라인에서 비교"
   ]
  },
  {
   "cell_type": "code",
   "execution_count": 19,
   "metadata": {},
   "outputs": [],
   "source": [
    "with open(\"Results/0.0005_total_fee\", 'rb') as pickle_file:\n",
    "    total_fee_0005=pkl.load( pickle_file)"
   ]
  },
  {
   "cell_type": "code",
   "execution_count": null,
   "metadata": {},
   "outputs": [],
   "source": []
  },
  {
   "cell_type": "code",
   "execution_count": 21,
   "metadata": {},
   "outputs": [
    {
     "data": {
      "text/plain": [
       "<matplotlib.legend.Legend at 0x7f82a059bc50>"
      ]
     },
     "execution_count": 21,
     "metadata": {},
     "output_type": "execute_result"
    },
    {
     "data": {
      "image/png": "[encoded data removed]",
      "text/plain": [
       "<Figure size 432x288 with 1 Axes>"
      ]
     },
     "metadata": {
      "needs_background": "light"
     },
     "output_type": "display_data"
    }
   ],
   "source": [
    "plt.plot(total_fee_0005[1:] , label = \"0.0005\")\n",
    "plt.plot(total_fee[1:] , label = \"0.0001\")\n",
    "plt.grid()\n",
    "plt.title(\"Total fee\")\n",
    "plt.xlabel(\"N_agent\")\n",
    "plt.legend()"
   ]
  },
  {
   "cell_type": "code",
   "execution_count": null,
   "metadata": {},
   "outputs": [],
   "source": []
  },
  {
   "cell_type": "code",
   "execution_count": null,
   "metadata": {},
   "outputs": [],
   "source": []
  },
  {
   "cell_type": "code",
   "execution_count": 10,
   "metadata": {},
   "outputs": [],
   "source": [
    "for i in range(1,27+1):\n",
    "    if not os.listdir(f'saves/transfer0/0.003/{i}/'):\n",
    "        print(i)"
   ]
  },
  {
   "cell_type": "code",
   "execution_count": null,
   "metadata": {},
   "outputs": [],
   "source": [
    "os.path.exists('saves/transfer0/0.003/10/')"
   ]
  },
  {
   "cell_type": "markdown",
   "metadata": {},
   "source": [
    "## 총 거래량"
   ]
  },
  {
   "cell_type": "code",
   "execution_count": null,
   "metadata": {},
   "outputs": [],
   "source": [
    "info['position_variation'].abs().sum()"
   ]
  },
  {
   "cell_type": "code",
   "execution_count": null,
   "metadata": {},
   "outputs": [],
   "source": [
    "info.to_csv(f\"Results/{1}.csv\")"
   ]
  },
  {
   "cell_type": "markdown",
   "metadata": {},
   "source": [
    "## 총 수수료"
   ]
  },
  {
   "cell_type": "code",
   "execution_count": null,
   "metadata": {},
   "outputs": [],
   "source": [
    "env.total_fee"
   ]
  },
  {
   "cell_type": "code",
   "execution_count": null,
   "metadata": {},
   "outputs": [],
   "source": []
  }
 ],
 "metadata": {
  "kernelspec": {
   "display_name": "RL",
   "language": "python",
   "name": "rl"
  },
  "language_info": {
   "codemirror_mode": {
    "name": "ipython",
    "version": 3
   },
   "file_extension": ".py",
   "mimetype": "text/x-python",
   "name": "python",
   "nbconvert_exporter": "python",
   "pygments_lexer": "ipython3",
   "version": "3.7.2"
  }
 },
 "nbformat": 4,
 "nbformat_minor": 2
}
